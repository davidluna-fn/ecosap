{
 "cells": [
  {
   "cell_type": "code",
   "execution_count": 3,
   "metadata": {},
   "outputs": [
    {
     "name": "stdout",
     "output_type": "stream",
     "text": [
      "Processing /home/david/Código/ecosap-base\n",
      "  Installing build dependencies ... \u001b[?25ldone\n",
      "\u001b[?25h  Getting requirements to build wheel ... \u001b[?25ldone\n",
      "\u001b[?25h  Preparing metadata (pyproject.toml) ... \u001b[?25ldone\n",
      "\u001b[?25hRequirement already satisfied: numpy in /home/david/Código/ecosap-base/venv/lib/python3.11/site-packages (from ecosap==0.0.1) (1.24.0)\n",
      "Requirement already satisfied: soundfile in /home/david/Código/ecosap-base/venv/lib/python3.11/site-packages (from ecosap==0.0.1) (0.12.1)\n",
      "Requirement already satisfied: matplotlib in /home/david/Código/ecosap-base/venv/lib/python3.11/site-packages (from ecosap==0.0.1) (3.7.2)\n",
      "Requirement already satisfied: pandas in /home/david/Código/ecosap-base/venv/lib/python3.11/site-packages (from ecosap==0.0.1) (2.0.3)\n",
      "Requirement already satisfied: datetime in /home/david/Código/ecosap-base/venv/lib/python3.11/site-packages (from ecosap==0.0.1) (5.2)\n",
      "Requirement already satisfied: zope.interface in /home/david/Código/ecosap-base/venv/lib/python3.11/site-packages (from datetime->ecosap==0.0.1) (6.0)\n",
      "Requirement already satisfied: pytz in /home/david/Código/ecosap-base/venv/lib/python3.11/site-packages (from datetime->ecosap==0.0.1) (2023.3)\n",
      "Requirement already satisfied: contourpy>=1.0.1 in /home/david/Código/ecosap-base/venv/lib/python3.11/site-packages (from matplotlib->ecosap==0.0.1) (1.1.0)\n",
      "Requirement already satisfied: cycler>=0.10 in /home/david/Código/ecosap-base/venv/lib/python3.11/site-packages (from matplotlib->ecosap==0.0.1) (0.11.0)\n",
      "Requirement already satisfied: fonttools>=4.22.0 in /home/david/Código/ecosap-base/venv/lib/python3.11/site-packages (from matplotlib->ecosap==0.0.1) (4.41.1)\n",
      "Requirement already satisfied: kiwisolver>=1.0.1 in /home/david/Código/ecosap-base/venv/lib/python3.11/site-packages (from matplotlib->ecosap==0.0.1) (1.4.4)\n",
      "Requirement already satisfied: packaging>=20.0 in /home/david/Código/ecosap-base/venv/lib/python3.11/site-packages (from matplotlib->ecosap==0.0.1) (23.1)\n",
      "Requirement already satisfied: pillow>=6.2.0 in /home/david/Código/ecosap-base/venv/lib/python3.11/site-packages (from matplotlib->ecosap==0.0.1) (10.0.0)\n",
      "Requirement already satisfied: pyparsing<3.1,>=2.3.1 in /home/david/Código/ecosap-base/venv/lib/python3.11/site-packages (from matplotlib->ecosap==0.0.1) (3.0.9)\n",
      "Requirement already satisfied: python-dateutil>=2.7 in /home/david/Código/ecosap-base/venv/lib/python3.11/site-packages (from matplotlib->ecosap==0.0.1) (2.8.2)\n",
      "Requirement already satisfied: tzdata>=2022.1 in /home/david/Código/ecosap-base/venv/lib/python3.11/site-packages (from pandas->ecosap==0.0.1) (2023.3)\n",
      "Requirement already satisfied: cffi>=1.0 in /home/david/Código/ecosap-base/venv/lib/python3.11/site-packages (from soundfile->ecosap==0.0.1) (1.15.1)\n",
      "Requirement already satisfied: pycparser in /home/david/Código/ecosap-base/venv/lib/python3.11/site-packages (from cffi>=1.0->soundfile->ecosap==0.0.1) (2.21)\n",
      "Requirement already satisfied: six>=1.5 in /home/david/Código/ecosap-base/venv/lib/python3.11/site-packages (from python-dateutil>=2.7->matplotlib->ecosap==0.0.1) (1.16.0)\n",
      "Requirement already satisfied: setuptools in /home/david/Código/ecosap-base/venv/lib/python3.11/site-packages (from zope.interface->datetime->ecosap==0.0.1) (66.1.1)\n",
      "Building wheels for collected packages: ecosap\n",
      "  Building wheel for ecosap (pyproject.toml) ... \u001b[?25ldone\n",
      "\u001b[?25h  Created wheel for ecosap: filename=ecosap-0.0.1-py3-none-any.whl size=5863 sha256=a954e02f26baa718083e622669eb71e4d631f7abed6b128ab4125fba2bfa1815\n",
      "  Stored in directory: /home/david/.cache/pip/wheels/3e/e2/c0/98a10b1307699b218aa85d12a1632e50a3e0224053e2d9d44b\n",
      "Successfully built ecosap\n",
      "Installing collected packages: ecosap\n",
      "  Attempting uninstall: ecosap\n",
      "    Found existing installation: ecosap 0.0.1\n",
      "    Uninstalling ecosap-0.0.1:\n",
      "      Successfully uninstalled ecosap-0.0.1\n",
      "Successfully installed ecosap-0.0.1\n"
     ]
    }
   ],
   "source": [
    " !pip install ../../ecosap-base"
   ]
  },
  {
   "cell_type": "code",
   "execution_count": 3,
   "metadata": {},
   "outputs": [
    {
     "data": {
      "text/html": [
       "<div>\n",
       "<style scoped>\n",
       "    .dataframe tbody tr th:only-of-type {\n",
       "        vertical-align: middle;\n",
       "    }\n",
       "\n",
       "    .dataframe tbody tr th {\n",
       "        vertical-align: top;\n",
       "    }\n",
       "\n",
       "    .dataframe thead th {\n",
       "        text-align: right;\n",
       "    }\n",
       "</style>\n",
       "<table border=\"1\" class=\"dataframe\">\n",
       "  <thead>\n",
       "    <tr style=\"text-align: right;\">\n",
       "      <th></th>\n",
       "      <th>Name</th>\n",
       "      <th>Folder</th>\n",
       "      <th>Date</th>\n",
       "      <th>Time</th>\n",
       "      <th>Path</th>\n",
       "    </tr>\n",
       "  </thead>\n",
       "  <tbody>\n",
       "    <tr>\n",
       "      <th>0</th>\n",
       "      <td>G03_20180517_074500.wav</td>\n",
       "      <td>G03_m</td>\n",
       "      <td>2018-05-17</td>\n",
       "      <td>07:45:00</td>\n",
       "      <td>/media/hdd/datasets/Jaguas/G03_m/G03_20180517_...</td>\n",
       "    </tr>\n",
       "    <tr>\n",
       "      <th>1</th>\n",
       "      <td>G03_20180517_073000.wav</td>\n",
       "      <td>G03_m</td>\n",
       "      <td>2018-05-17</td>\n",
       "      <td>07:30:00</td>\n",
       "      <td>/media/hdd/datasets/Jaguas/G03_m/G03_20180517_...</td>\n",
       "    </tr>\n",
       "    <tr>\n",
       "      <th>2</th>\n",
       "      <td>G03_20180516_231200.wav</td>\n",
       "      <td>G03_m</td>\n",
       "      <td>2018-05-16</td>\n",
       "      <td>23:12:00</td>\n",
       "      <td>/media/hdd/datasets/Jaguas/G03_m/G03_20180516_...</td>\n",
       "    </tr>\n",
       "    <tr>\n",
       "      <th>3</th>\n",
       "      <td>G03_20180516_063000.wav</td>\n",
       "      <td>G03_m</td>\n",
       "      <td>2018-05-16</td>\n",
       "      <td>06:30:00</td>\n",
       "      <td>/media/hdd/datasets/Jaguas/G03_m/G03_20180516_...</td>\n",
       "    </tr>\n",
       "    <tr>\n",
       "      <th>4</th>\n",
       "      <td>G03_20180517_071500.wav</td>\n",
       "      <td>G03_m</td>\n",
       "      <td>2018-05-17</td>\n",
       "      <td>07:15:00</td>\n",
       "      <td>/media/hdd/datasets/Jaguas/G03_m/G03_20180517_...</td>\n",
       "    </tr>\n",
       "  </tbody>\n",
       "</table>\n",
       "</div>"
      ],
      "text/plain": [
       "                      Name Folder       Date      Time  \\\n",
       "0  G03_20180517_074500.wav  G03_m 2018-05-17  07:45:00   \n",
       "1  G03_20180517_073000.wav  G03_m 2018-05-17  07:30:00   \n",
       "2  G03_20180516_231200.wav  G03_m 2018-05-16  23:12:00   \n",
       "3  G03_20180516_063000.wav  G03_m 2018-05-16  06:30:00   \n",
       "4  G03_20180517_071500.wav  G03_m 2018-05-17  07:15:00   \n",
       "\n",
       "                                                Path  \n",
       "0  /media/hdd/datasets/Jaguas/G03_m/G03_20180517_...  \n",
       "1  /media/hdd/datasets/Jaguas/G03_m/G03_20180517_...  \n",
       "2  /media/hdd/datasets/Jaguas/G03_m/G03_20180516_...  \n",
       "3  /media/hdd/datasets/Jaguas/G03_m/G03_20180516_...  \n",
       "4  /media/hdd/datasets/Jaguas/G03_m/G03_20180517_...  "
      ]
     },
     "execution_count": 3,
     "metadata": {},
     "output_type": "execute_result"
    }
   ],
   "source": [
    "from ecosap import ecoutils\n",
    "PATH = '/media/hdd/datasets/Jaguas/'\n",
    "files = ecoutils.list_audio_files(PATH)\n",
    "files.head()"
   ]
  }
 ],
 "metadata": {
  "kernelspec": {
   "display_name": "venv",
   "language": "python",
   "name": "python3"
  },
  "language_info": {
   "codemirror_mode": {
    "name": "ipython",
    "version": 3
   },
   "file_extension": ".py",
   "mimetype": "text/x-python",
   "name": "python",
   "nbconvert_exporter": "python",
   "pygments_lexer": "ipython3",
   "version": "3.11.2"
  },
  "orig_nbformat": 4
 },
 "nbformat": 4,
 "nbformat_minor": 2
}
